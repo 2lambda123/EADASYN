{
 "cells": [
  {
   "cell_type": "code",
   "execution_count": 2,
   "metadata": {},
   "outputs": [
    {
     "name": "stderr",
     "output_type": "stream",
     "text": [
      "Using TensorFlow backend.\n"
     ]
    }
   ],
   "source": [
    "import numpy as np\n",
    "import matplotlib.pyplot as plt\n",
    "from random import randint\n",
    "from imblearn.over_sampling import SMOTE\n",
    "from sklearn import metrics\n",
    "from sklearn.model_selection import StratifiedKFold"
   ]
  },
  {
   "cell_type": "code",
   "execution_count": 4,
   "metadata": {},
   "outputs": [],
   "source": [
    "def smote(X, Y, ratio = 1):\n",
    "    sm = SMOTE(sampling_strategy = ratio)\n",
    "    return sm.fit_resample(X, Y)"
   ]
  },
  {
   "cell_type": "code",
   "execution_count": 7,
   "metadata": {},
   "outputs": [
    {
     "name": "stdout",
     "output_type": "stream",
     "text": [
      "[[100.0, 1.0, 2.0], [150.0, 0.2, 4.0], [123.0, 6.0, 4.0], [200.0, 6.0, 9.0], [100.0, 1.0, 2.0], [150.0, 0.2, 4.0], [123.0, 6.0, 4.0], [200.0, 6.0, 9.0], [100.0, 1.0, 2.0], [150.0, 0.2, 4.0], [123.0, 6.0, 4.0], [200.0, 6.0, 9.0], [100.0, 1.0, 2.0], [150.0, 0.2, 4.0], [123.0, 6.0, 4.0], [200.0, 6.0, 9.0], [100.0, 1.0, 2.0], [150.0, 0.2, 4.0], [123.0, 6.0, 4.0], [200.0, 6.0, 9.0], [3.0, 4.0, 5.0], [5.0, 6.0, 7.0], [3.1, 4.0, 5.0], [5.2, 6.0, 7.0], [3.6, 4.0, 5.0], [5.3, 6.0, 7.0], [3.5, 4.0, 5.0], [5.6, 6.0, 7.0], [3.9, 4.0, 5.0], [9.0, 6.0, 7.0], [3.6181726959910634, 4.0, 5.0], [3.2280618210836685, 4.0, 5.0], [3.2953696389781566, 4.0, 5.0], [5.052720053470037, 6.0, 7.0], [3.7377577695010022, 4.0, 5.0], [5.135033550917499, 6.0, 7.0], [7.61633258500434, 6.0, 7.0], [3.2677456752594294, 4.0, 5.0], [5.19519847342316, 6.0, 7.0], [3.4278388767986323, 4.0, 5.0]]\n",
      "[0, 0, 0, 0, 0, 0, 0, 0, 0, 0, 0, 0, 0, 0, 0, 0, 0, 0, 0, 0, 1, 1, 1, 1, 1, 1, 1, 1, 1, 1, 1, 1, 1, 1, 1, 1, 1, 1, 1, 1]\n"
     ]
    }
   ],
   "source": [
    "X = [[100,1,2],[150,0.2,4],[123,6,4],[200,6,9],[100,1,2],[150,0.2,4],[123,6,4],[200,6,9],[100,1,2],[150,0.2,4],[123,6,4],[200,6,9],[100,1,2],[150,0.2,4],[123,6,4],[200,6,9],[100,1,2],[150,0.2,4],[123,6,4],[200,6,9],[3,4,5],[5,6,7],[3.1,4,5],[5.2,6,7],[3.6,4,5],[5.3,6,7],[3.5,4,5],[5.6,6,7],[3.9,4,5],[9,6,7]]\n",
    "Y = [0,0,0,0,0,0,0,0,0,0,0,0,0,0,0,0,0,0,0,0,1,1,1,1,1,1,1,1,1,1]\n",
    "X_new, Y_new = smote(X, Y)\n",
    "print(X_new)\n",
    "print(Y_new)"
   ]
  },
  {
   "cell_type": "code",
   "execution_count": null,
   "metadata": {},
   "outputs": [],
   "source": [
    "# Assumption: All the minority class samples appear after majority class samples \n",
    "def esmote(X, Y, ratio = 1, num_candidates = 10, iter = 15, clf):\n",
    "    candidates = []\n",
    "    num_pairs = int(num_candidates*0.2)\n",
    "    original_size = len(X)\n",
    "    \n",
    "    # Generate the candidates\n",
    "    for i in range(num_candidates):\n",
    "        X_res, Y_res = smote(X, Y, ratio)\n",
    "        candidates.append([X_res,Y_res])\n",
    "        \n",
    "    res_size = len(candidates[0][0])\n",
    "    \n",
    "    # Evolution steps\n",
    "    for i in range(iter):\n",
    "        f1_scores = []\n",
    "        \n",
    "        # Calculate fitness level (f1) for each candidate\n",
    "        for c in range(num_candidates):\n",
    "            skf = StratifiedKFold(n_splits=5)\n",
    "            f1 = cross_val_score(clf, X = candidates[c][0], y = candidates[c][1], scoring = 'f1', cv = skf)\n",
    "            f1_scores.append(mean(f1))\n",
    "            \n",
    "        # Eliminate the least fit candidates\n",
    "        f1_scores = np.array(f1_scores)\n",
    "        for i in range(num_pairs*2):\n",
    "            del candidates[np.argmin(f1_scores)]\n",
    "            del f1_scores[np.argmin(f1_scores)]\n",
    "            \n",
    "        # Crossover the remaining candiates with probability \n",
    "        # proportional to their fitness level\n",
    "        for i in range(num_pairs):\n",
    "            parent_indices = np.random.choice(num_candidates-num_pairs*2, 2, f1_scores, replace = False)\n",
    "            crossover_point = randint(original_size,res_size-1)\n",
    "            c1_Y = candidates[parent_indices[0]][1]\n",
    "            c2_Y = candidates[parent_indices[1]][1]\n",
    "            \n",
    "            # Actual crossover\n",
    "            c1_X = candidates[parent_indices[0]][0][:crossover_point]\n",
    "            c1_X.extend(candidates[parent_indices[1]][0][crossover_point:])\n",
    "            c2_X = candidates[parent_indices[1]][0][:crossover_point]\n",
    "            c2_X.extend(candidates[parent_indices[0]][0][crossover_point:])\n",
    "            \n",
    "            # Add the children to the candidates set\n",
    "            candidates.append([c1_X,c1_Y])\n",
    "            candidates.append([c2_X,c2_Y])\n",
    "            \n",
    "            \n",
    "            "
   ]
  }
 ],
 "metadata": {
  "kernelspec": {
   "display_name": "Python 3",
   "language": "python",
   "name": "python3"
  },
  "language_info": {
   "codemirror_mode": {
    "name": "ipython",
    "version": 3
   },
   "file_extension": ".py",
   "mimetype": "text/x-python",
   "name": "python",
   "nbconvert_exporter": "python",
   "pygments_lexer": "ipython3",
   "version": "3.6.8"
  }
 },
 "nbformat": 4,
 "nbformat_minor": 2
}
